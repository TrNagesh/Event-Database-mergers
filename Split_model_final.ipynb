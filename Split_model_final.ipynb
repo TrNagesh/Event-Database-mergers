{
 "cells": [
  {
   "cell_type": "code",
   "execution_count": null,
   "metadata": {},
   "outputs": [],
   "source": [
    "####### Step 1 ################ -   Importing"
   ]
  },
  {
   "cell_type": "code",
   "execution_count": 1,
   "metadata": {},
   "outputs": [],
   "source": [
    "from SPARQLWrapper import SPARQLWrapper, JSON , XML\n"
   ]
  },
  {
   "cell_type": "code",
   "execution_count": 2,
   "metadata": {},
   "outputs": [],
   "source": [
    "from eventregistry import *\n",
    "import json, os, sys"
   ]
  },
  {
   "cell_type": "code",
   "execution_count": 3,
   "metadata": {},
   "outputs": [
    {
     "name": "stdout",
     "output_type": "stream",
     "text": [
      "using user provided API key for making requests\n",
      "Event Registry host: http://eventregistry.org\n",
      "Text analytics host: http://analytics.eventregistry.org\n"
     ]
    }
   ],
   "source": [
    "#er = EventRegistry(allowUseOfArchive=False)\n",
    "er = EventRegistry(apiKey = \"63a4fe09-615a-4969-9713-6dfb630e2828\")\n"
   ]
  },
  {
   "cell_type": "code",
   "execution_count": null,
   "metadata": {},
   "outputs": [],
   "source": []
  },
  {
   "cell_type": "code",
   "execution_count": null,
   "metadata": {},
   "outputs": [],
   "source": [
    "####### Step 2 ################ -   Wrapper"
   ]
  },
  {
   "cell_type": "code",
   "execution_count": 4,
   "metadata": {},
   "outputs": [],
   "source": [
    "sparql = SPARQLWrapper(\"http://eventkginterface.l3s.uni-hannover.de/sparql\") \n"
   ]
  },
  {
   "cell_type": "code",
   "execution_count": null,
   "metadata": {},
   "outputs": [],
   "source": []
  },
  {
   "cell_type": "code",
   "execution_count": 5,
   "metadata": {},
   "outputs": [],
   "source": [
    "####### Step 3 ################ -   Enter Query"
   ]
  },
  {
   "cell_type": "code",
   "execution_count": 58,
   "metadata": {},
   "outputs": [
    {
     "name": "stdout",
     "output_type": "stream",
     "text": [
      "Please enter the sparql query :PREFIX eventKG-s: <http://eventKG.l3s.uni-hannover.de/schema/> PREFIX eventKG-g: <http://eventKG.l3s.uni-hannover.de/graph/> PREFIX rdf: <http://www.w3.org/1999/02/22-rdf-syntax-ns#> PREFIX so: <http://schema.org/> PREFIX sem: <http://semanticweb.cs.vu.nl/2009/11/sem/> PREFIX owl: <http://www.w3.org/2002/07/owl#> PREFIX dbr: <http://dbpedia.org/resource/>  SELECT ?place ?date WHERE {  ?event rdf:type sem:Event .  ?event owl:sameAs dbr:Battle_of_Trafalgar .  GRAPH eventKG-g:event_kg {?event sem:hasPlace ?loc} .  GRAPH eventKG-g:dbpedia_en { ?loc owl:sameAs ?location . } }\n"
     ]
    }
   ],
   "source": [
    "\n",
    "sparql_query = input(\"Please enter the sparql query :\")\n"
   ]
  },
  {
   "cell_type": "code",
   "execution_count": null,
   "metadata": {},
   "outputs": [],
   "source": []
  },
  {
   "cell_type": "code",
   "execution_count": null,
   "metadata": {},
   "outputs": [],
   "source": [
    "####### Step 4 ################ -   Preprocessing and Mapping"
   ]
  },
  {
   "cell_type": "code",
   "execution_count": 59,
   "metadata": {},
   "outputs": [],
   "source": [
    "def preprocessing(sparql_query):\n",
    "    \n",
    "    keyword = re.findall(r\"SELECT(.+?)WHERE\" , sparql_query)\n",
    "    keyword_join = \"\".join(keyword)\n",
    "    keyword_split = str(keyword_join).split()\n",
    "    keyword_list = []\n",
    "    for each in keyword_split:\n",
    "        if each is not None:\n",
    "            each = each.replace(\"?\", \"\")\n",
    "            keyword_list.append(each)\n",
    "    return keyword_list\n",
    "    "
   ]
  },
  {
   "cell_type": "code",
   "execution_count": 60,
   "metadata": {},
   "outputs": [
    {
     "data": {
      "text/plain": [
       "['place', 'date']"
      ]
     },
     "execution_count": 60,
     "metadata": {},
     "output_type": "execute_result"
    }
   ],
   "source": [
    "keyword_list = preprocessing(sparql_query)\n",
    "keyword_list"
   ]
  },
  {
   "cell_type": "code",
   "execution_count": 61,
   "metadata": {},
   "outputs": [],
   "source": [
    "def event_kg_mapper(keyword_list):\n",
    "    \n",
    "    tablemap_computer = {\n",
    "    'date' : \"startdate\",\n",
    "    'place' : 'location',\n",
    "    'name' : 'nomen',\n",
    "    'nomen' : 'name'\n",
    "    }\n",
    "    tablemap = []\n",
    "    for each in list(keyword_list):\n",
    "        \n",
    "        if tablemap_computer.get(each) is not None:\n",
    "            \n",
    "            tablemap.append(tablemap_computer.get(each))\n",
    "            \n",
    "    return tablemap"
   ]
  },
  {
   "cell_type": "code",
   "execution_count": 64,
   "metadata": {},
   "outputs": [],
   "source": [
    "def event_registry_mapper(keyword_list):\n",
    "    \n",
    "    tablemap_computer = {\n",
    "    'date' : \"eventDate\",\n",
    "    'place' : 'location',\n",
    "    'name' : 'naam',\n",
    "    \n",
    "    }\n",
    "    tablemap = []\n",
    "    for each in list(keyword_list):\n",
    "        \n",
    "        if tablemap_computer.get(each) is not None:\n",
    "            \n",
    "            tablemap.append(tablemap_computer.get(each))\n",
    "            \n",
    "    return tablemap"
   ]
  },
  {
   "cell_type": "code",
   "execution_count": 65,
   "metadata": {},
   "outputs": [
    {
     "name": "stdout",
     "output_type": "stream",
     "text": [
      "['location', 'startdate']\n",
      "['location', 'eventDate']\n"
     ]
    }
   ],
   "source": [
    "event_kg_mapped_keyword_list = event_kg_mapper(keyword_list)\n",
    "print(event_kg_mapped_keyword_list)\n",
    "event_registry_mapped_keyword_list = event_registry_mapper(keyword_list)\n",
    "print(event_registry_mapped_keyword_list)"
   ]
  },
  {
   "cell_type": "code",
   "execution_count": null,
   "metadata": {},
   "outputs": [],
   "source": []
  },
  {
   "cell_type": "code",
   "execution_count": null,
   "metadata": {},
   "outputs": [],
   "source": []
  },
  {
   "cell_type": "code",
   "execution_count": null,
   "metadata": {},
   "outputs": [],
   "source": [
    "####### Step 5 ################ -  Entity resolution for Event Kg and Event registry "
   ]
  },
  {
   "cell_type": "code",
   "execution_count": 66,
   "metadata": {},
   "outputs": [],
   "source": [
    "def entity_kg_resolution(event_kg_mapped_keyword_list, sparql_query):\n",
    "    keyowrd_list_with_ques_mark = []\n",
    "    for each in event_kg_mapped_keyword_list:\n",
    "        each = ''.join(('?',each))\n",
    "        keyowrd_list_with_ques_mark.append(each)\n",
    "\n",
    "    keyowrd_list_with_ques_mark.insert(0, \"\")\n",
    "\n",
    "    keyword_list_with_space = \" \".join(keyowrd_list_with_ques_mark)\n",
    "    keyword_list_with_space_length = len(keyword_list_with_space)+1\n",
    "    keyword_list_with_space = keyword_list_with_space.ljust(keyword_list_with_space_length)\n",
    "\n",
    "    sparql_query_resolved = (\"\".join(re.findall(r\"SELECT(.+?)WHERE\" , sparql_query)))\n",
    "    sparql_query_resolved = sparql_query.replace(sparql_query_resolved,keyword_list_with_space)\n",
    "    return sparql_query_resolved"
   ]
  },
  {
   "cell_type": "code",
   "execution_count": 67,
   "metadata": {},
   "outputs": [
    {
     "data": {
      "text/plain": [
       "'PREFIX eventKG-s: <http://eventKG.l3s.uni-hannover.de/schema/> PREFIX eventKG-g: <http://eventKG.l3s.uni-hannover.de/graph/> PREFIX rdf: <http://www.w3.org/1999/02/22-rdf-syntax-ns#> PREFIX so: <http://schema.org/> PREFIX sem: <http://semanticweb.cs.vu.nl/2009/11/sem/> PREFIX owl: <http://www.w3.org/2002/07/owl#> PREFIX dbr: <http://dbpedia.org/resource/>  SELECT ?location ?startdate WHERE {  ?event rdf:type sem:Event .  ?event owl:sameAs dbr:Battle_of_Trafalgar .  GRAPH eventKG-g:event_kg {?event sem:hasPlace ?loc} .  GRAPH eventKG-g:dbpedia_en { ?loc owl:sameAs ?location . } }'"
      ]
     },
     "execution_count": 67,
     "metadata": {},
     "output_type": "execute_result"
    }
   ],
   "source": [
    "sparql_query_resolved_event_kg = (entity_kg_resolution(event_kg_mapped_keyword_list,sparql_query))\n",
    "sparql_query_resolved_event_kg"
   ]
  },
  {
   "cell_type": "code",
   "execution_count": null,
   "metadata": {},
   "outputs": [],
   "source": []
  },
  {
   "cell_type": "code",
   "execution_count": 68,
   "metadata": {},
   "outputs": [],
   "source": [
    "def entity_registry_resolution(event_registry_mapped_keyword_list, sparql_query):\n",
    "    keyowrd_list_with_ques_mark = []\n",
    "    for each in event_registry_mapped_keyword_list:\n",
    "        each = ''.join(('?',each))\n",
    "        keyowrd_list_with_ques_mark.append(each)\n",
    "\n",
    "    keyowrd_list_with_ques_mark.insert(0, \"\")\n",
    "\n",
    "    keyword_list_with_space = \" \".join(keyowrd_list_with_ques_mark)\n",
    "    keyword_list_with_space_length = len(keyword_list_with_space)+1\n",
    "    keyword_list_with_space = keyword_list_with_space.ljust(keyword_list_with_space_length)\n",
    "\n",
    "    sparql_query_resolved = (\"\".join(re.findall(r\"SELECT(.+?)WHERE\" , sparql_query)))\n",
    "    sparql_query_resolved = sparql_query.replace(sparql_query_resolved,keyword_list_with_space)\n",
    "    return sparql_query_resolved"
   ]
  },
  {
   "cell_type": "code",
   "execution_count": 69,
   "metadata": {},
   "outputs": [
    {
     "data": {
      "text/plain": [
       "'PREFIX eventKG-s: <http://eventKG.l3s.uni-hannover.de/schema/> PREFIX eventKG-g: <http://eventKG.l3s.uni-hannover.de/graph/> PREFIX rdf: <http://www.w3.org/1999/02/22-rdf-syntax-ns#> PREFIX so: <http://schema.org/> PREFIX sem: <http://semanticweb.cs.vu.nl/2009/11/sem/> PREFIX owl: <http://www.w3.org/2002/07/owl#> PREFIX dbr: <http://dbpedia.org/resource/>  SELECT ?location ?eventDate WHERE {  ?event rdf:type sem:Event .  ?event owl:sameAs dbr:Battle_of_Trafalgar .  GRAPH eventKG-g:event_kg {?event sem:hasPlace ?loc} .  GRAPH eventKG-g:dbpedia_en { ?loc owl:sameAs ?location . } }'"
      ]
     },
     "execution_count": 69,
     "metadata": {},
     "output_type": "execute_result"
    }
   ],
   "source": [
    "sparql_query_resolved_event_registry = (entity_registry_resolution(event_registry_mapped_keyword_list,sparql_query))\n",
    "sparql_query_resolved_event_registry"
   ]
  },
  {
   "cell_type": "code",
   "execution_count": null,
   "metadata": {},
   "outputs": [],
   "source": []
  },
  {
   "cell_type": "code",
   "execution_count": null,
   "metadata": {},
   "outputs": [],
   "source": []
  },
  {
   "cell_type": "code",
   "execution_count": null,
   "metadata": {},
   "outputs": [],
   "source": [
    "####### Step 6 ################ -   Event resolution for event registry"
   ]
  },
  {
   "cell_type": "code",
   "execution_count": 70,
   "metadata": {},
   "outputs": [],
   "source": [
    "def event_resolution_event_registry(sparql_query_resolved_event_registry):\n",
    "    \n",
    "    event = re.findall(r\"dbr:([^ <]+)\",sparql_query_resolved_event_registry)\n",
    "    event = \"\".join(event)\n",
    "    event = event.replace(\"_\", \" \")\n",
    "    \n",
    "    \n",
    "    return event\n",
    "    "
   ]
  },
  {
   "cell_type": "code",
   "execution_count": 71,
   "metadata": {},
   "outputs": [
    {
     "data": {
      "text/plain": [
       "'Battle of Trafalgar'"
      ]
     },
     "execution_count": 71,
     "metadata": {},
     "output_type": "execute_result"
    }
   ],
   "source": [
    "event_resolved_name = event_resolution_event_registry(sparql_query_resolved_event_registry)\n",
    "event_resolved_name"
   ]
  },
  {
   "cell_type": "code",
   "execution_count": null,
   "metadata": {},
   "outputs": [],
   "source": []
  },
  {
   "cell_type": "code",
   "execution_count": null,
   "metadata": {},
   "outputs": [],
   "source": [
    "####### Step 7 ################ -   Event Kg output"
   ]
  },
  {
   "cell_type": "code",
   "execution_count": 76,
   "metadata": {},
   "outputs": [],
   "source": [
    "def event_kg_output(sparql_query_resolved_event_kg):\n",
    "    sparql.setQuery(sparql_query_resolved_event_kg)\n",
    "    sparql.setReturnFormat(XML)\n",
    "    results = sparql.query().convert()\n",
    "    #print(results.toxml())\n",
    "    return results.toxml()"
   ]
  },
  {
   "cell_type": "code",
   "execution_count": 77,
   "metadata": {},
   "outputs": [
    {
     "data": {
      "text/plain": [
       "'<?xml version=\"1.0\" ?><sparql xmlns=\"http://www.w3.org/2005/sparql-results#\" xmlns:xsi=\"http://www.w3.org/2001/XMLSchema-instance\" xsi:schemaLocation=\"http://www.w3.org/2001/sw/DataAccess/rf1/result2.xsd\">\\n <head>\\n  <variable name=\"location\"/>\\n  <variable name=\"startdate\"/>\\n </head>\\n <results distinct=\"false\" ordered=\"true\">\\n  <result>\\n   <binding name=\"location\"><uri>http://dbpedia.org/resource/Atlantic_Ocean</uri></binding>\\n  </result>\\n  <result>\\n   <binding name=\"location\"><uri>http://dbpedia.org/resource/First_French_Empire</uri></binding>\\n  </result>\\n  <result>\\n   <binding name=\"location\"><uri>http://dbpedia.org/resource/Strait_of_Gibraltar</uri></binding>\\n  </result>\\n  <result>\\n   <binding name=\"location\"><uri>http://dbpedia.org/resource/Cape_Trafalgar</uri></binding>\\n  </result>\\n  <result>\\n   <binding name=\"location\"><uri>http://dbpedia.org/resource/Gulf_of_Cádiz</uri></binding>\\n  </result>\\n </results>\\n</sparql>'"
      ]
     },
     "execution_count": 77,
     "metadata": {},
     "output_type": "execute_result"
    }
   ],
   "source": [
    "event_kg_output = event_kg_output(sparql_query_resolved_event_kg)\n",
    "event_kg_output"
   ]
  },
  {
   "cell_type": "code",
   "execution_count": null,
   "metadata": {},
   "outputs": [],
   "source": []
  },
  {
   "cell_type": "code",
   "execution_count": null,
   "metadata": {},
   "outputs": [],
   "source": [
    "####### Step 8 ################ -   Event registry output"
   ]
  },
  {
   "cell_type": "code",
   "execution_count": 88,
   "metadata": {},
   "outputs": [],
   "source": [
    "def event_registry_output(event_resolved_name):\n",
    "    iter = QueryEventsIter(conceptUri = er.getConceptUri(event_resolved_name))\n",
    "    for art in iter.execQuery(er, sortBy = \"rel\"):\n",
    "        #print(art)\n",
    "        event_output = (json.dumps(art, indent=4))\n",
    "       \n",
    "        break\n",
    "    \n",
    "    event_output = json.loads(event_output)\n",
    "    \n",
    "    for i in event_output[\"concepts\"]:\n",
    "    \n",
    "        if i[\"type\"] == \"loc\":\n",
    "            location = (i[\"label\"][\"eng\"])\n",
    "            \n",
    "            break\n",
    "    starttime = event_output[\"eventDate\"]\n",
    "    endtime = event_output[\"eventDate\"]  \n",
    "    \n",
    "    return {\n",
    "        \"location\" : location,\n",
    "        \"eventDate\" : starttime,\n",
    "        \"enddate\" : endtime\n",
    "        \n",
    "        \n",
    "    }\n",
    "    "
   ]
  },
  {
   "cell_type": "code",
   "execution_count": 89,
   "metadata": {},
   "outputs": [
    {
     "data": {
      "text/plain": [
       "{'location': 'London', 'eventDate': '2019-09-11', 'enddate': '2019-09-11'}"
      ]
     },
     "execution_count": 89,
     "metadata": {},
     "output_type": "execute_result"
    }
   ],
   "source": [
    "event_registry_output = event_registry_output(event_resolved_name)\n",
    "event_registry_output"
   ]
  },
  {
   "cell_type": "code",
   "execution_count": 90,
   "metadata": {},
   "outputs": [
    {
     "name": "stdout",
     "output_type": "stream",
     "text": [
      "The ouput from event registry is as follows : \n",
      "location : London\n",
      "eventDate : 2019-09-11\n"
     ]
    }
   ],
   "source": [
    "print(\"The ouput from event registry is as follows : \")\n",
    "for ent in event_registry_mapped_keyword_list:\n",
    "    if ent in event_registry_output:\n",
    "        \n",
    "        print(ent ,\":\" ,event_registry_output[ent])"
   ]
  },
  {
   "cell_type": "code",
   "execution_count": null,
   "metadata": {},
   "outputs": [],
   "source": []
  }
 ],
 "metadata": {
  "kernelspec": {
   "display_name": "Python 3",
   "language": "python",
   "name": "python3"
  },
  "language_info": {
   "codemirror_mode": {
    "name": "ipython",
    "version": 3
   },
   "file_extension": ".py",
   "mimetype": "text/x-python",
   "name": "python",
   "nbconvert_exporter": "python",
   "pygments_lexer": "ipython3",
   "version": "3.7.3"
  }
 },
 "nbformat": 4,
 "nbformat_minor": 2
}
