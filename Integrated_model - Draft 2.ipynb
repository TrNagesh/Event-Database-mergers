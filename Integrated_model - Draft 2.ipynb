{
 "cells": [
  {
   "cell_type": "code",
   "execution_count": 1,
   "metadata": {},
   "outputs": [],
   "source": [
    "from SPARQLWrapper import SPARQLWrapper, JSON , XML\n"
   ]
  },
  {
   "cell_type": "code",
   "execution_count": 2,
   "metadata": {},
   "outputs": [],
   "source": [
    "from eventregistry import *\n",
    "import json, os, sys"
   ]
  },
  {
   "cell_type": "code",
   "execution_count": 3,
   "metadata": {},
   "outputs": [
    {
     "name": "stdout",
     "output_type": "stream",
     "text": [
      "using user provided API key for making requests\n",
      "Event Registry host: http://eventregistry.org\n",
      "Text analytics host: http://analytics.eventregistry.org\n"
     ]
    }
   ],
   "source": [
    "#er = EventRegistry(allowUseOfArchive=False)\n",
    "er = EventRegistry(apiKey = \"APIKEY-HERE\")\n"
   ]
  },
  {
   "cell_type": "code",
   "execution_count": 4,
   "metadata": {},
   "outputs": [
    {
     "name": "stdout",
     "output_type": "stream",
     "text": [
      "<SPARQLWrapper.Wrapper.SPARQLWrapper object at 0x000002080E7C6080>\n",
      "{\"_defaultGraph\" : None,\n",
      "\"_defaultReturnFormat\" : 'xml',\n",
      "\"agent\" : 'sparqlwrapper 1.8.4 (rdflib.github.io/sparqlwrapper)',\n",
      "\"customHttpHeaders\" : {},\n",
      "\"endpoint\" : 'http://eventkginterface.l3s.uni-hannover.de/sparql',\n",
      "\"http_auth\" : 'BASIC',\n",
      "\"method\" : 'GET',\n",
      "\"onlyConneg\" : False,\n",
      "\"parameters\" : {},\n",
      "\"passwd\" : None,\n",
      "\"queryString\" : 'SELECT * WHERE{ ?s ?p ?o }',\n",
      "\"queryType\" : 'SELECT',\n",
      "\"requestMethod\" : 'urlencoded',\n",
      "\"returnFormat\" : 'xml',\n",
      "\"timeout\" : None,\n",
      "\"updateEndpoint\" : 'http://eventkginterface.l3s.uni-hannover.de/sparql',\n",
      "\"user\" : None}\n"
     ]
    }
   ],
   "source": [
    "sparql = SPARQLWrapper(\"http://eventkginterface.l3s.uni-hannover.de/sparql\") \n",
    "print(sparql)"
   ]
  },
  {
   "cell_type": "code",
   "execution_count": 19,
   "metadata": {},
   "outputs": [
    {
     "name": "stdout",
     "output_type": "stream",
     "text": [
      "Please enter the sparql query :PREFIX eventKG-s: <http://eventKG.l3s.uni-hannover.de/schema/> PREFIX eventKG-g: <http://eventKG.l3s.uni-hannover.de/graph/> PREFIX rdf: <http://www.w3.org/1999/02/22-rdf-syntax-ns#> PREFIX so: <http://schema.org/> PREFIX sem: <http://semanticweb.cs.vu.nl/2009/11/sem/> PREFIX owl: <http://www.w3.org/2002/07/owl#> PREFIX dbr: <http://dbpedia.org/resource/>  SELECT ?location WHERE {  ?event rdf:type sem:Event .  ?event owl:sameAs dbr:Battle_of_Trafalgar .  GRAPH eventKG-g:event_kg {?event sem:hasPlace ?loc} .  GRAPH eventKG-g:dbpedia_en { ?loc owl:sameAs ?location . } }\n"
     ]
    }
   ],
   "source": [
    "sparql_query = input(\"Please enter the sparql query :\")\n"
   ]
  },
  {
   "cell_type": "code",
   "execution_count": null,
   "metadata": {},
   "outputs": [],
   "source": [
    "\"\"\"\n",
    "def integrated_model(sparql_query):\n",
    "    \n",
    "    event_kg_result = event_kg(sparql_query)\n",
    "    #print( \"Event KG response : \",event_kg_result )\n",
    "    event_preprocess(sparql_query)\n",
    "    event_registry_to_kg(event)\n",
    "    event_registry_key_extraction(event_output)\n",
    "    event_registry_to_event_kg_mapper()\n",
    "    \n",
    "\"\"\"\""
   ]
  },
  {
   "cell_type": "code",
   "execution_count": 20,
   "metadata": {},
   "outputs": [],
   "source": [
    "def event_kg(sparql_query):\n",
    "    sparql.setQuery(sparql_query)\n",
    "    sparql.setReturnFormat(XML)\n",
    "    results = sparql.query().convert()\n",
    "    print(results.toxml())\n",
    "    return results.toxml()"
   ]
  },
  {
   "cell_type": "code",
   "execution_count": 21,
   "metadata": {},
   "outputs": [
    {
     "name": "stdout",
     "output_type": "stream",
     "text": [
      "<?xml version=\"1.0\" ?><sparql xmlns=\"http://www.w3.org/2005/sparql-results#\" xmlns:xsi=\"http://www.w3.org/2001/XMLSchema-instance\" xsi:schemaLocation=\"http://www.w3.org/2001/sw/DataAccess/rf1/result2.xsd\">\n",
      " <head>\n",
      "  <variable name=\"location\"/>\n",
      " </head>\n",
      " <results distinct=\"false\" ordered=\"true\">\n",
      "  <result>\n",
      "   <binding name=\"location\"><uri>http://dbpedia.org/resource/Atlantic_Ocean</uri></binding>\n",
      "  </result>\n",
      "  <result>\n",
      "   <binding name=\"location\"><uri>http://dbpedia.org/resource/First_French_Empire</uri></binding>\n",
      "  </result>\n",
      "  <result>\n",
      "   <binding name=\"location\"><uri>http://dbpedia.org/resource/Strait_of_Gibraltar</uri></binding>\n",
      "  </result>\n",
      "  <result>\n",
      "   <binding name=\"location\"><uri>http://dbpedia.org/resource/Cape_Trafalgar</uri></binding>\n",
      "  </result>\n",
      "  <result>\n",
      "   <binding name=\"location\"><uri>http://dbpedia.org/resource/Gulf_of_Cádiz</uri></binding>\n",
      "  </result>\n",
      " </results>\n",
      "</sparql>\n",
      "The ouput from EventKg is as follows : \n",
      "<?xml version=\"1.0\" ?><sparql xmlns=\"http://www.w3.org/2005/sparql-results#\" xmlns:xsi=\"http://www.w3.org/2001/XMLSchema-instance\" xsi:schemaLocation=\"http://www.w3.org/2001/sw/DataAccess/rf1/result2.xsd\">\n",
      " <head>\n",
      "  <variable name=\"location\"/>\n",
      " </head>\n",
      " <results distinct=\"false\" ordered=\"true\">\n",
      "  <result>\n",
      "   <binding name=\"location\"><uri>http://dbpedia.org/resource/Atlantic_Ocean</uri></binding>\n",
      "  </result>\n",
      "  <result>\n",
      "   <binding name=\"location\"><uri>http://dbpedia.org/resource/First_French_Empire</uri></binding>\n",
      "  </result>\n",
      "  <result>\n",
      "   <binding name=\"location\"><uri>http://dbpedia.org/resource/Strait_of_Gibraltar</uri></binding>\n",
      "  </result>\n",
      "  <result>\n",
      "   <binding name=\"location\"><uri>http://dbpedia.org/resource/Cape_Trafalgar</uri></binding>\n",
      "  </result>\n",
      "  <result>\n",
      "   <binding name=\"location\"><uri>http://dbpedia.org/resource/Gulf_of_Cádiz</uri></binding>\n",
      "  </result>\n",
      " </results>\n",
      "</sparql>\n"
     ]
    }
   ],
   "source": [
    "event_kg_output = event_kg(sparql_query)\n",
    "print(\"The ouput from EventKg is as follows : \")\n",
    "print(event_kg_output)"
   ]
  },
  {
   "cell_type": "code",
   "execution_count": null,
   "metadata": {},
   "outputs": [],
   "source": []
  },
  {
   "cell_type": "code",
   "execution_count": 22,
   "metadata": {},
   "outputs": [],
   "source": [
    "def event_preprocess(sparql_query):\n",
    "    sparql.setQuery(sparql_query)\n",
    "    #print(sparql)\n",
    "    query_string = sparql.queryString\n",
    "    \n",
    "    #event = re.findall(r\"sameAs dbr:(.*)\",query_string)\n",
    "    \n",
    "    event = re.findall(r\"dbr:([^ <]+)\",query_string)\n",
    "    event = \"\".join(event)\n",
    "    event = event.replace(\"_\", \" \")\n",
    "    select_string = re.findall(r\"SELECT(.+?)WHERE\" , query_string)\n",
    "    #select_string = \"\".join(select_string)\n",
    "    #select_string = select_string.replace(\"?\", \"\")\n",
    "   \n",
    "    return event,select_string\n",
    "    "
   ]
  },
  {
   "cell_type": "code",
   "execution_count": 23,
   "metadata": {},
   "outputs": [
    {
     "data": {
      "text/plain": [
       "('Battle of Trafalgar', [' ?location '])"
      ]
     },
     "execution_count": 23,
     "metadata": {},
     "output_type": "execute_result"
    }
   ],
   "source": [
    "event,select_string = event_preprocess(sparql_query)\n",
    "event,select_string"
   ]
  },
  {
   "cell_type": "code",
   "execution_count": 24,
   "metadata": {},
   "outputs": [],
   "source": [
    "def get_select_content(select_string):\n",
    "    for each_string in select_string:\n",
    "        each_string = \"\".join(each_string)\n",
    "        each_string = each_string.replace(\"?\", \"\")\n",
    "        \n",
    "        return each_string\n",
    "        "
   ]
  },
  {
   "cell_type": "code",
   "execution_count": 25,
   "metadata": {},
   "outputs": [
    {
     "data": {
      "text/plain": [
       "['', 'location', '']"
      ]
     },
     "execution_count": 25,
     "metadata": {},
     "output_type": "execute_result"
    }
   ],
   "source": [
    "select_string_processed = get_select_content(select_string)\n",
    "select_string_processed = (list(select_string_processed.split(\" \")))\n",
    "select_string_processed"
   ]
  },
  {
   "cell_type": "code",
   "execution_count": 26,
   "metadata": {},
   "outputs": [],
   "source": [
    "def event_registry_to_event_kg_mapper(select_string_processed):\n",
    "    \n",
    "    tablemap_computer = {\n",
    "    'startTime' : \"starttime\",\n",
    "    'endTime' : \"endtime\",\n",
    "    'location' : \"location\"\n",
    "    }\n",
    "    tablemap = []\n",
    "    for each in list(select_string_processed):\n",
    "        \n",
    "        if tablemap_computer.get(each) is not None:\n",
    "            \n",
    "            tablemap.append(tablemap_computer.get(each))\n",
    "            \n",
    "    return tablemap"
   ]
  },
  {
   "cell_type": "code",
   "execution_count": 27,
   "metadata": {},
   "outputs": [
    {
     "data": {
      "text/plain": [
       "['location']"
      ]
     },
     "execution_count": 27,
     "metadata": {},
     "output_type": "execute_result"
    }
   ],
   "source": [
    "entities = event_registry_to_event_kg_mapper(select_string_processed)\n",
    "entities"
   ]
  },
  {
   "cell_type": "code",
   "execution_count": null,
   "metadata": {},
   "outputs": [],
   "source": []
  },
  {
   "cell_type": "code",
   "execution_count": 28,
   "metadata": {},
   "outputs": [],
   "source": [
    "def event_registry_to_kg(event):\n",
    "    iter = QueryEventsIter(conceptUri = er.getConceptUri(event))\n",
    "    for art in iter.execQuery(er, sortBy = \"rel\"):\n",
    "        #print(art)\n",
    "        event_output = (json.dumps(art, indent=4))\n",
    "       \n",
    "        break\n",
    "    \n",
    "    event_output = json.loads(event_output)\n",
    "    \n",
    "    for i in event_output[\"concepts\"]:\n",
    "    \n",
    "        if i[\"type\"] == \"loc\":\n",
    "            location = (i[\"label\"][\"eng\"])\n",
    "            \n",
    "            break\n",
    "    starttime = event_output[\"eventDate\"]\n",
    "    endtime = event_output[\"eventDate\"]  \n",
    "    \n",
    "    return {\n",
    "        \"location\" : location,\n",
    "        \"starttime\" : starttime,\n",
    "        \"endtime\" : endtime\n",
    "        \n",
    "        \n",
    "    }"
   ]
  },
  {
   "cell_type": "code",
   "execution_count": 30,
   "metadata": {},
   "outputs": [
    {
     "data": {
      "text/plain": [
       "{'location': 'Civil Guard (Spain)',\n",
       " 'starttime': '2018-07-22',\n",
       " 'endtime': '2018-07-22'}"
      ]
     },
     "execution_count": 30,
     "metadata": {},
     "output_type": "execute_result"
    }
   ],
   "source": [
    "event_registry_output = event_registry_to_kg(event)\n",
    "event_registry_output"
   ]
  },
  {
   "cell_type": "code",
   "execution_count": 18,
   "metadata": {},
   "outputs": [
    {
     "name": "stdout",
     "output_type": "stream",
     "text": [
      "The ouput from event registry is as follows : \n",
      "location : Civil Guard (Spain)\n"
     ]
    }
   ],
   "source": [
    "print(\"The ouput from event registry is as follows : \")\n",
    "for ent in entities:\n",
    "    if ent in event_registry_output:\n",
    "        \n",
    "        print(ent ,\":\" ,event_registry_output[ent])"
   ]
  },
  {
   "cell_type": "code",
   "execution_count": null,
   "metadata": {},
   "outputs": [],
   "source": []
  }
 ],
 "metadata": {
  "kernelspec": {
   "display_name": "Python 3",
   "language": "python",
   "name": "python3"
  },
  "language_info": {
   "codemirror_mode": {
    "name": "ipython",
    "version": 3
   },
   "file_extension": ".py",
   "mimetype": "text/x-python",
   "name": "python",
   "nbconvert_exporter": "python",
   "pygments_lexer": "ipython3",
   "version": "3.7.3"
  }
 },
 "nbformat": 4,
 "nbformat_minor": 2
}
